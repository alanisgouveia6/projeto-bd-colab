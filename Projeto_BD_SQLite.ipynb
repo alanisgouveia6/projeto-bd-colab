{
  "nbformat": 4,
  "nbformat_minor": 0,
  "metadata": {
    "colab": {
      "provenance": [],
      "authorship_tag": "ABX9TyNbVq3/qXb4Al31l49D/36V",
      "include_colab_link": true
    },
    "kernelspec": {
      "name": "python3",
      "display_name": "Python 3"
    },
    "language_info": {
      "name": "python"
    }
  },
  "cells": [
    {
      "cell_type": "markdown",
      "metadata": {
        "id": "view-in-github",
        "colab_type": "text"
      },
      "source": [
        "<a href=\"https://colab.research.google.com/github/alanisgouveia6/projeto-bd-colab/blob/main/Projeto_BD_SQLite.ipynb\" target=\"_parent\"><img src=\"https://colab.research.google.com/assets/colab-badge.svg\" alt=\"Open In Colab\"/></a>"
      ]
    },
    {
      "cell_type": "code",
      "execution_count": 1,
      "metadata": {
        "colab": {
          "base_uri": "https://localhost:8080/"
        },
        "id": "m_rHiSEBZOBB",
        "outputId": "5d096126-c2c9-4c38-e835-c73493c3130b"
      },
      "outputs": [
        {
          "output_type": "stream",
          "name": "stdout",
          "text": [
            "Conexão criada com sucesso!\n"
          ]
        }
      ],
      "source": [
        "import sqlite3\n",
        "\n",
        "# Conectar ao banco em memória\n",
        "conn = sqlite3.connect(':memory:')\n",
        "cursor = conn.cursor()\n",
        "\n",
        "# Ativar uso de chaves estrangeiras\n",
        "cursor.execute(\"PRAGMA foreign_keys = ON;\")\n",
        "\n",
        "print(\"Conexão criada com sucesso!\")\n"
      ]
    },
    {
      "cell_type": "code",
      "source": [
        "# Criar tabelas\n",
        "cursor.execute('''\n",
        "CREATE TABLE IF NOT EXISTS pessoas (\n",
        "    id INTEGER PRIMARY KEY AUTOINCREMENT,\n",
        "    nome TEXT NOT NULL,\n",
        "    idade INTEGER\n",
        ");\n",
        "''')\n",
        "\n",
        "cursor.execute('''\n",
        "CREATE TABLE IF NOT EXISTS produtos (\n",
        "    id INTEGER PRIMARY KEY AUTOINCREMENT,\n",
        "    descricao TEXT NOT NULL,\n",
        "    estoque INTEGER,\n",
        "    preco REAL\n",
        ");\n",
        "''')\n",
        "\n",
        "cursor.execute('''\n",
        "CREATE TABLE IF NOT EXISTS vendas (\n",
        "    id_venda INTEGER PRIMARY KEY AUTOINCREMENT,\n",
        "    id_pessoa INTEGER,\n",
        "    id_produto INTEGER,\n",
        "    quantidade INTEGER,\n",
        "    FOREIGN KEY (id_pessoa) REFERENCES pessoas(id),\n",
        "    FOREIGN KEY (id_produto) REFERENCES produtos(id)\n",
        ");\n",
        "''')\n",
        "\n",
        "conn.commit()\n",
        "\n",
        "print(\"Tabelas criadas com sucesso!\")\n"
      ],
      "metadata": {
        "colab": {
          "base_uri": "https://localhost:8080/"
        },
        "id": "GoynMsTIZ7dX",
        "outputId": "6f68b7f4-d327-4c47-ef1d-3336c553e8a9"
      },
      "execution_count": 2,
      "outputs": [
        {
          "output_type": "stream",
          "name": "stdout",
          "text": [
            "Tabelas criadas com sucesso!\n"
          ]
        }
      ]
    },
    {
      "cell_type": "code",
      "source": [
        "# Inserir dados na tabela pessoas\n",
        "cursor.execute(\"INSERT INTO pessoas (nome, idade) VALUES ('Maria', 30);\")\n",
        "cursor.execute(\"INSERT INTO pessoas (nome, idade) VALUES ('João', 25);\")\n",
        "cursor.execute(\"INSERT INTO pessoas (nome, idade) VALUES ('Ana', 40);\")\n",
        "\n",
        "# Inserir dados na tabela produtos\n",
        "cursor.execute(\"INSERT INTO produtos (descricao, estoque, preco) VALUES ('Caneta', 100, 1.50);\")\n",
        "cursor.execute(\"INSERT INTO produtos (descricao, estoque, preco) VALUES ('Caderno', 50, 6.50);\")\n",
        "\n",
        "conn.commit()\n",
        "\n",
        "print(\"Dados inseridos com sucesso!\")\n"
      ],
      "metadata": {
        "colab": {
          "base_uri": "https://localhost:8080/"
        },
        "id": "ZvyPIhzVaJWv",
        "outputId": "63bfdd66-4e9a-4a25-87e7-a7bf1f0e936d"
      },
      "execution_count": 3,
      "outputs": [
        {
          "output_type": "stream",
          "name": "stdout",
          "text": [
            "Dados inseridos com sucesso!\n"
          ]
        }
      ]
    },
    {
      "cell_type": "code",
      "source": [
        "# Inserir dados na tabela vendas\n",
        "cursor.execute(\"INSERT INTO vendas (id_pessoa, id_produto, quantidade) VALUES (1, 1, 10);\")  # Maria comprou 10 canetas\n",
        "cursor.execute(\"INSERT INTO vendas (id_pessoa, id_produto, quantidade) VALUES (2, 2, 2);\")   # João comprou 2 cadernos\n",
        "\n",
        "conn.commit()\n",
        "\n",
        "print(\"Vendas inseridas com sucesso!\")\n"
      ],
      "metadata": {
        "colab": {
          "base_uri": "https://localhost:8080/"
        },
        "id": "uT41vEnfaUnx",
        "outputId": "7e463616-17c1-4e1d-8f73-a5a7667bec4e"
      },
      "execution_count": 4,
      "outputs": [
        {
          "output_type": "stream",
          "name": "stdout",
          "text": [
            "Vendas inseridas com sucesso!\n"
          ]
        }
      ]
    },
    {
      "cell_type": "code",
      "source": [
        "# Consultar os dados das vendas com JOIN entre tabelas\n",
        "cursor.execute('''\n",
        "SELECT v.id_venda, p.nome, pr.descricao, v.quantidade\n",
        "FROM vendas v\n",
        "JOIN pessoas p ON v.id_pessoa = p.id\n",
        "JOIN produtos pr ON v.id_produto = pr.id;\n",
        "''')\n",
        "\n",
        "resultados = cursor.fetchall()\n",
        "\n",
        "# Mostrar os resultados\n",
        "for linha in resultados:\n",
        "    print(linha)\n"
      ],
      "metadata": {
        "colab": {
          "base_uri": "https://localhost:8080/"
        },
        "id": "er2ysq38aWf5",
        "outputId": "904aa614-3b96-4f2c-bffb-551b12ef9189"
      },
      "execution_count": 5,
      "outputs": [
        {
          "output_type": "stream",
          "name": "stdout",
          "text": [
            "(1, 'Maria', 'Caneta', 10)\n",
            "(2, 'João', 'Caderno', 2)\n"
          ]
        }
      ]
    }
  ]
}